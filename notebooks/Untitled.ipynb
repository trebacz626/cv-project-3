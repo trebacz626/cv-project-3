{
 "cells": [
  {
   "cell_type": "code",
   "execution_count": 1,
   "id": "9c35cf62",
   "metadata": {
    "scrolled": true
   },
   "outputs": [
    {
     "name": "stderr",
     "output_type": "stream",
     "text": [
      "WARNING: CPU random generator seem to be failing, disabling hardware random number generation\n",
      "WARNING: RDRND generated: 0xffffffff 0xffffffff 0xffffffff 0xffffffff\n"
     ]
    }
   ],
   "source": [
    "import numpy as np\n",
    "try:\n",
    "    import Image\n",
    "except ImportError:\n",
    "    from PIL import Image\n",
    "import cv2\n",
    "from random import randint"
   ]
  },
  {
   "cell_type": "code",
   "execution_count": 7,
   "id": "86d9e601",
   "metadata": {},
   "outputs": [
    {
     "data": {
      "text/plain": [
       "array([[[128, 128, 128],\n",
       "        [128, 128, 128],\n",
       "        [126, 126, 126],\n",
       "        ...,\n",
       "        [126, 126, 126],\n",
       "        [128, 128, 128],\n",
       "        [127, 127, 127]],\n",
       "\n",
       "       [[127, 127, 127],\n",
       "        [127, 127, 127],\n",
       "        [128, 128, 128],\n",
       "        ...,\n",
       "        [128, 128, 128],\n",
       "        [128, 128, 128],\n",
       "        [127, 127, 127]],\n",
       "\n",
       "       [[127, 127, 127],\n",
       "        [130, 130, 130],\n",
       "        [128, 128, 128],\n",
       "        ...,\n",
       "        [128, 128, 128],\n",
       "        [128, 128, 128],\n",
       "        [128, 128, 128]],\n",
       "\n",
       "       ...,\n",
       "\n",
       "       [[128, 128, 128],\n",
       "        [128, 128, 128],\n",
       "        [126, 126, 126],\n",
       "        ...,\n",
       "        [118, 118, 118],\n",
       "        [131, 131, 131],\n",
       "        [187, 187, 187]],\n",
       "\n",
       "       [[130, 130, 130],\n",
       "        [129, 129, 129],\n",
       "        [128, 128, 128],\n",
       "        ...,\n",
       "        [ 68,  68,  68],\n",
       "        [106, 106, 106],\n",
       "        [149, 149, 149]],\n",
       "\n",
       "       [[128, 128, 128],\n",
       "        [129, 129, 129],\n",
       "        [128, 128, 128],\n",
       "        ...,\n",
       "        [ 80,  80,  80],\n",
       "        [109, 109, 109],\n",
       "        [138, 138, 138]]], dtype=uint8)"
      ]
     },
     "execution_count": 7,
     "metadata": {},
     "output_type": "execute_result"
    }
   ],
   "source": [
    "img  = cv2.imread(\"1.tif\")\n",
    "img"
   ]
  },
  {
   "cell_type": "code",
   "execution_count": null,
   "id": "b2614a72",
   "metadata": {},
   "outputs": [],
   "source": [
    "masks = np.load('masks.npy')"
   ]
  },
  {
   "cell_type": "code",
   "execution_count": null,
   "id": "890280e7",
   "metadata": {},
   "outputs": [],
   "source": [
    "images_list  = np.load('images.npy')"
   ]
  },
  {
   "cell_type": "code",
   "execution_count": null,
   "id": "4f346a1e",
   "metadata": {
    "scrolled": true
   },
   "outputs": [],
   "source": [
    "masks.shape"
   ]
  },
  {
   "cell_type": "code",
   "execution_count": null,
   "id": "70e90440",
   "metadata": {},
   "outputs": [],
   "source": [
    "images_list.shape"
   ]
  },
  {
   "cell_type": "code",
   "execution_count": null,
   "id": "93fa2af7",
   "metadata": {},
   "outputs": [],
   "source": [
    "masks.shape\n",
    "mask1 = masks[1]\n",
    "mask1 = mask1[:,:, 1]\n",
    "mask1.shape"
   ]
  },
  {
   "cell_type": "code",
   "execution_count": null,
   "id": "44e9681f",
   "metadata": {},
   "outputs": [],
   "source": [
    "img = cv2.imread(\"./images1/1.jpg\")"
   ]
  },
  {
   "cell_type": "code",
   "execution_count": null,
   "id": "92ced25a",
   "metadata": {},
   "outputs": [],
   "source": [
    "img[mask1==0] = [0,0,0]"
   ]
  },
  {
   "cell_type": "code",
   "execution_count": null,
   "id": "65d97beb",
   "metadata": {
    "scrolled": false
   },
   "outputs": [],
   "source": [
    "# counter = 0\n",
    "for _ in range(0, 10):\n",
    "    random_number = randint(1, 2500)\n",
    "#     print(random_number, random_number)\n",
    "#     img = cv2.imread(f\"./images1/{random_number}.jpg\")\n",
    "    img = images_list[random_number]\n",
    "    img = img.astype(np.uint8)\n",
    "    mask = masks[random_number]\n",
    "    mask = mask[:,:, 1]\n",
    "    masked_img = np.copy(img)\n",
    "    masked_img[mask==0] = [0,0,0]\n",
    "    display_image(np.concatenate([img, masked_img], 1))\n",
    "#     counter += 1\n",
    "#     break\n"
   ]
  },
  {
   "cell_type": "code",
   "execution_count": null,
   "id": "f398ce54",
   "metadata": {},
   "outputs": [],
   "source": []
  },
  {
   "cell_type": "code",
   "execution_count": null,
   "id": "30a3267b",
   "metadata": {},
   "outputs": [],
   "source": [
    "display_image(np.concatenate(img))"
   ]
  },
  {
   "cell_type": "code",
   "execution_count": 2,
   "id": "1bdf1a55",
   "metadata": {},
   "outputs": [],
   "source": [
    "def display_image(img):\n",
    "    if not isinstance(img, str):\n",
    "         display(Image.fromarray(img))\n",
    "    else:\n",
    "        display(Image.fromarray(cv2.imread(img, cv2.IMREAD_COLOR))) "
   ]
  },
  {
   "cell_type": "code",
   "execution_count": null,
   "id": "f7e1331d",
   "metadata": {},
   "outputs": [],
   "source": [
    "data = np.load('images.npy')"
   ]
  },
  {
   "cell_type": "code",
   "execution_count": null,
   "id": "2ad83615",
   "metadata": {},
   "outputs": [],
   "source": [
    "types = np.load('types.npy')"
   ]
  },
  {
   "cell_type": "code",
   "execution_count": null,
   "id": "cbf0b544",
   "metadata": {},
   "outputs": [],
   "source": [
    "for type in types:\n",
    "    print(type)"
   ]
  },
  {
   "cell_type": "code",
   "execution_count": null,
   "id": "268076d6",
   "metadata": {
    "scrolled": true
   },
   "outputs": [],
   "source": [
    "data.shape"
   ]
  },
  {
   "cell_type": "code",
   "execution_count": null,
   "id": "15f844d3",
   "metadata": {},
   "outputs": [],
   "source": [
    "counter = 0\n",
    "for _ in range(0, 2523):\n",
    "    image = data[counter]\n",
    "    image = image.astype(np.uint8)\n",
    "    cv2.imwrite(f\"images1/{counter}.jpg\", image)\n",
    "    counter += 1"
   ]
  },
  {
   "cell_type": "code",
   "execution_count": null,
   "id": "1da3a100",
   "metadata": {
    "scrolled": true
   },
   "outputs": [],
   "source": [
    "#my_image = data[1]\n",
    "my_image = data[1,:,:]\n",
    "my_image = my_image.astype(np.uint8)\n",
    "# my_image = my_image * 255\n",
    "my_image.shape\n",
    "# my_image"
   ]
  },
  {
   "cell_type": "code",
   "execution_count": null,
   "id": "132d7de9",
   "metadata": {},
   "outputs": [],
   "source": [
    "# img = cv2.cvtColor(my_image, cv2.COLOR_BGR2GRAY)"
   ]
  },
  {
   "cell_type": "code",
   "execution_count": null,
   "id": "c79c5206",
   "metadata": {},
   "outputs": [],
   "source": [
    "cv2.imwrite(\"images1/1.jpg\", my_image)"
   ]
  },
  {
   "cell_type": "code",
   "execution_count": null,
   "id": "03f0849e",
   "metadata": {},
   "outputs": [],
   "source": [
    "cv2.imshow('graycsale image',my_image)"
   ]
  },
  {
   "cell_type": "code",
   "execution_count": null,
   "id": "b70ec97b",
   "metadata": {},
   "outputs": [],
   "source": [
    "display_image(my_image)"
   ]
  }
 ],
 "metadata": {
  "kernelspec": {
   "display_name": "Python 3 (ipykernel)",
   "language": "python",
   "name": "python3"
  },
  "language_info": {
   "codemirror_mode": {
    "name": "ipython",
    "version": 3
   },
   "file_extension": ".py",
   "mimetype": "text/x-python",
   "name": "python",
   "nbconvert_exporter": "python",
   "pygments_lexer": "ipython3",
   "version": "3.8.12"
  }
 },
 "nbformat": 4,
 "nbformat_minor": 5
}
